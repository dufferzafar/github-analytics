{
 "cells": [
  {
   "cell_type": "code",
   "execution_count": 27,
   "metadata": {},
   "outputs": [
    {
     "data": {
      "text/html": [
       "\n",
       "<style>\n",
       "    div#notebook-container    { width: 80%; }\n",
       "    div#header-container      { width: 80%; }\n",
       "    div#menubar-container     { width: 80%; }\n",
       "    div#maintoolbar-container { width: 80%; }\n",
       "</style>\n"
      ],
      "text/plain": [
       "<IPython.core.display.HTML object>"
      ]
     },
     "metadata": {},
     "output_type": "display_data"
    }
   ],
   "source": [
    "# More screen realestate\n",
    "from IPython.display import display, HTML\n",
    "\n",
    "display(HTML(data=\"\"\"\n",
    "<style>\n",
    "    div#notebook-container    { width: 80%; }\n",
    "    div#header-container      { width: 80%; }\n",
    "    div#menubar-container     { width: 80%; }\n",
    "    div#maintoolbar-container { width: 80%; }\n",
    "</style>\n",
    "\"\"\"))"
   ]
  },
  {
   "cell_type": "code",
   "execution_count": 6,
   "metadata": {
    "collapsed": true
   },
   "outputs": [],
   "source": [
    "import json\n",
    "\n",
    "from pyspark.sql import SparkSession\n",
    "import pyspark.sql.functions as F\n",
    "\n",
    "from pyspark.sql.types import *\n",
    "import pyspark.sql.types as spark_types\n",
    "\n",
    "def spark_schema_from_json(j):\n",
    "    return StructType([\n",
    "        StructField(\n",
    "            f[\"name\"],\n",
    "            spark_types._parse_datatype_string(f.get(\"type\", \"string\")),\n",
    "            f.get(\"nullable\", True),\n",
    "            f.get(\"metadata\", None)\n",
    "        )\n",
    "        for f in j\n",
    "    ])\n",
    "\n",
    "spark = SparkSession.builder.master(\"local\").appName(\"GH Users\").getOrCreate()\n",
    "\n",
    "with open(\"ghtorrent-schema.json\") as f:\n",
    "    db_schema = json.load(f)"
   ]
  },
  {
   "cell_type": "code",
   "execution_count": 13,
   "metadata": {
    "collapsed": true
   },
   "outputs": [],
   "source": [
    "df = spark.read.csv(\n",
    "#     path=\"/mnt/Data/GHTorrent/users_head.csv\",\n",
    "    path=\"/mnt/Data/GHTorrent/users.csv\",\n",
    "    schema=spark_schema_from_json(db_schema[\"users.csv\"]),\n",
    "    nullValue=\"\\\\N\",\n",
    "#     multiLine=True,\n",
    ")\n",
    "\n",
    "users = df\n",
    "\n",
    "# df.count()\n",
    "\n",
    "# Users who have perfectly mapped location data\n",
    "# df2 = df.filter(df.country_code.isNotNull())\n",
    "# df2.count()\n",
    "\n",
    "# Users who have data in location field but which couldn't be mapped to a\n",
    "# country etc.\n",
    "# df3 = df.filter(df.country_code.isNull() & df.location.isNotNull())\n",
    "\n",
    "# df3.count()\n",
    "\n",
    "# Such users from India?\n",
    "# df4 = df3.filter(df.location.rlike(\"\\\\bIndia\\\\b\"))"
   ]
  },
  {
   "cell_type": "markdown",
   "metadata": {},
   "source": [
    "### Companies with most GitHub users "
   ]
  },
  {
   "cell_type": "code",
   "execution_count": 71,
   "metadata": {
    "collapsed": true
   },
   "outputs": [],
   "source": [
    "# People who have a company\n",
    "df_company = df.filter(df.company.isNotNull() & ~ (df.company.isin([\"NA\", \"N/A\", \"None\", \"none\", \"-\", \"Personal\", \"Student\", \"student\", \"self\", \"Self\", \"Home\", \"Freelance\", \"Freelancer\"])) & ~ (df.company.contains(\"CLICK \")))\n",
    "\n",
    "# People who claim to be from India\n",
    "df5 = df_company.filter(df.location.rlike(\"\\\\bIndia\\\\b\"))\n",
    "\n",
    "# Count & Sort\n",
    "df6 = df_company.groupby(\"company\").count().sort(\"count\", ascending=False)\n",
    "\n",
    "# Which IIT is at the top?\n",
    "df6.filter(df.company.startswithith(\"IIT\")).show(20, False)"
   ]
  },
  {
   "cell_type": "code",
   "execution_count": null,
   "metadata": {},
   "outputs": [],
   "source": [
    "# Companies with most GitHub users\n",
    "\n",
    "df6 = df_company.groupby(\"company\").count().sort(\"count\", ascending=False)\n",
    "\n",
    "df6.show(20, False)"
   ]
  },
  {
   "cell_type": "markdown",
   "metadata": {},
   "source": [
    "### Users Year Country Count"
   ]
  },
  {
   "cell_type": "code",
   "execution_count": 25,
   "metadata": {
    "collapsed": true
   },
   "outputs": [],
   "source": [
    "df4 = (\n",
    "    df2\n",
    "    .select(F.year(df2.created_at).name(\"year\"), \"country_code\")\n",
    "    .groupby(\"year\", \"country_code\")\n",
    "    .count()\n",
    "    .sort(\"count\", ascending=False)\n",
    ")\n",
    "\n",
    "# df4.show()"
   ]
  },
  {
   "cell_type": "code",
   "execution_count": 28,
   "metadata": {
    "collapsed": true
   },
   "outputs": [],
   "source": [
    "# df4.count()\n",
    "df4.coalesce(1).write.json(\"user-year-country-count.json\")"
   ]
  },
  {
   "cell_type": "markdown",
   "metadata": {},
   "source": [
    "### Plot some charts"
   ]
  },
  {
   "cell_type": "code",
   "execution_count": null,
   "metadata": {
    "collapsed": true
   },
   "outputs": [],
   "source": [
    "import pandas as pd\n",
    "odf = pd.read_json(open(\"../outputs/user-year-country-count.json\"), lines=True)\n",
    "odf = odf.loc[odf.year != 2017]\n",
    "# odf['year'] = pd.to_datetime(odf['year'], format=\"%Y\")\n",
    "\n",
    "odf.head(50).country_code.unique()\n",
    "\n",
    "# odf2 = odf.loc[odf.year == 2014]\n",
    "# odf2.sort_values(\"count\")\n",
    "\n",
    "# odf3 = odf2.head(20)\n",
    "\n",
    "# odf3.country_code.unique()"
   ]
  },
  {
   "cell_type": "code",
   "execution_count": null,
   "metadata": {},
   "outputs": [],
   "source": [
    "%matplotlib inline\n",
    "import matplotlib.pyplot as plt"
   ]
  },
  {
   "cell_type": "code",
   "execution_count": null,
   "metadata": {},
   "outputs": [],
   "source": [
    "plt.figure()\n",
    "odf3.plot.bar(x=\"country_code\", y=\"count\")"
   ]
  },
  {
   "cell_type": "code",
   "execution_count": null,
   "metadata": {},
   "outputs": [],
   "source": [
    "from bokeh.plotting import output_notebook; output_notebook()"
   ]
  },
  {
   "cell_type": "code",
   "execution_count": null,
   "metadata": {},
   "outputs": [],
   "source": [
    "from bokeh.io import show\n",
    "from bokeh.palettes import Spectral11\n",
    "from bokeh.plotting import figure\n",
    "from bokeh.transform import factor_cmap\n",
    "\n",
    "p = figure(\n",
    "    x_range=(odf3.country_code.unique()),\n",
    "    plot_height=500\n",
    ")\n",
    "\n",
    "p.vbar(\n",
    "    source=odf3, \n",
    "    \n",
    "    x='country_code', top='count', \n",
    "    width=1, \n",
    "    line_color='white', \n",
    "    fill_color=factor_cmap('country_code', palette=Spectral11, factors=odf3.country_code.unique())\n",
    ")\n",
    "\n",
    "show(p)"
   ]
  },
  {
   "cell_type": "code",
   "execution_count": 178,
   "metadata": {},
   "outputs": [
    {
     "data": {
      "text/html": [
       "\n",
       "<div class=\"bk-root\">\n",
       "    <div class=\"bk-plotdiv\" id=\"0be46bee-61b5-4b31-8517-d3dfae33d5c3\"></div>\n",
       "</div>"
      ]
     },
     "metadata": {},
     "output_type": "display_data"
    },
    {
     "data": {
      "application/javascript": [
       "(function(root) {\n",
       "  function embed_document(root) {\n",
       "    var docs_json = {\"621d7ac2-ace2-409b-8a19-56889d069a2c\":{\"roots\":{\"references\":[{\"attributes\":{\"fill_alpha\":{\"value\":0.1},\"fill_color\":{\"value\":\"#1f77b4\"},\"line_alpha\":{\"value\":0.1},\"line_color\":{\"value\":\"#1f77b4\"},\"size\":{\"units\":\"screen\",\"value\":8},\"x\":{\"field\":\"x\"},\"y\":{\"field\":\"y\"}},\"id\":\"d24d0507-f137-4aca-97a7-4c2921336609\",\"type\":\"Circle\"},{\"attributes\":{\"label\":{\"value\":\"cn\"},\"renderers\":[{\"id\":\"c87b7cec-fe94-481a-ad71-324e4796456f\",\"type\":\"GlyphRenderer\"}]},\"id\":\"e25ffd6a-cc5f-4953-8771-42697db4f02d\",\"type\":\"LegendItem\"},{\"attributes\":{\"line_alpha\":{\"value\":0.1},\"line_color\":{\"value\":\"#1f77b4\"},\"x\":{\"field\":\"x\"},\"y\":{\"field\":\"y\"}},\"id\":\"f17a8d73-216e-4ee7-b83b-290dc8f6cc85\",\"type\":\"Line\"},{\"attributes\":{\"callback\":null,\"column_names\":[\"x\",\"y\"],\"data\":{\"x\":[2008,2009,2010,2011,2012,2013,2014,2015,2016],\"y\":[290,946,2597,6793,12472,17464,21972,23749,15646]}},\"id\":\"5c5e5e3f-1eb5-4b5a-b30b-0cf9657d23e7\",\"type\":\"ColumnDataSource\"},{\"attributes\":{\"fill_color\":{\"value\":\"white\"},\"line_color\":{\"value\":\"#2b83ba\"},\"size\":{\"units\":\"screen\",\"value\":8},\"x\":{\"field\":\"x\"},\"y\":{\"field\":\"y\"}},\"id\":\"94f2f056-3aa7-437f-8a0c-f8cbd517847c\",\"type\":\"Circle\"},{\"attributes\":{\"line_alpha\":{\"value\":0.1},\"line_color\":{\"value\":\"#1f77b4\"},\"x\":{\"field\":\"x\"},\"y\":{\"field\":\"y\"}},\"id\":\"22a1e821-7f35-4099-868a-15ffaf590895\",\"type\":\"Line\"},{\"attributes\":{\"data_source\":{\"id\":\"a9a7604b-8b92-4b05-8170-ab57716fa3c1\",\"type\":\"ColumnDataSource\"},\"glyph\":{\"id\":\"e652c262-69b2-4689-be78-8f368186c1cf\",\"type\":\"Line\"},\"hover_glyph\":null,\"muted_glyph\":null,\"nonselection_glyph\":{\"id\":\"22a1e821-7f35-4099-868a-15ffaf590895\",\"type\":\"Line\"},\"selection_glyph\":null,\"view\":{\"id\":\"8d9afe51-dd39-4e38-a844-d8e838fb5bc5\",\"type\":\"CDSView\"}},\"id\":\"f77bb0f0-e897-4b67-aba8-4d03cb42ee06\",\"type\":\"GlyphRenderer\"},{\"attributes\":{\"line_color\":{\"value\":\"#abdda4\"},\"x\":{\"field\":\"x\"},\"y\":{\"field\":\"y\"}},\"id\":\"1ebbfecb-9c76-46ac-95eb-627184ad67dd\",\"type\":\"Line\"},{\"attributes\":{\"callback\":null,\"column_names\":[\"x\",\"y\"],\"data\":{\"x\":[2008,2009,2010,2011,2012,2013,2014,2015,2016],\"y\":[990,2560,4724,8525,11499,11768,12367,11460,6210]}},\"id\":\"55a36aab-d805-42bf-b181-96e4576912cd\",\"type\":\"ColumnDataSource\"},{\"attributes\":{},\"id\":\"70dbee62-6785-4ef0-b226-698f18875d5d\",\"type\":\"WheelZoomTool\"},{\"attributes\":{\"line_alpha\":{\"value\":0.1},\"line_color\":{\"value\":\"#1f77b4\"},\"x\":{\"field\":\"x\"},\"y\":{\"field\":\"y\"}},\"id\":\"f7b4b801-53b6-48cf-81e2-95d736051121\",\"type\":\"Line\"},{\"attributes\":{\"line_alpha\":{\"value\":0.1},\"line_color\":{\"value\":\"#1f77b4\"},\"x\":{\"field\":\"x\"},\"y\":{\"field\":\"y\"}},\"id\":\"0b95d892-2cf4-4778-9bff-d4a895ec4ce3\",\"type\":\"Line\"},{\"attributes\":{\"fill_alpha\":{\"value\":0.1},\"fill_color\":{\"value\":\"#1f77b4\"},\"line_alpha\":{\"value\":0.1},\"line_color\":{\"value\":\"#1f77b4\"},\"size\":{\"units\":\"screen\",\"value\":8},\"x\":{\"field\":\"x\"},\"y\":{\"field\":\"y\"}},\"id\":\"8ad35136-a039-4648-951d-2263ad507a4c\",\"type\":\"Circle\"},{\"attributes\":{\"fill_color\":{\"value\":\"white\"},\"line_color\":{\"value\":\"#abdda4\"},\"size\":{\"units\":\"screen\",\"value\":8},\"x\":{\"field\":\"x\"},\"y\":{\"field\":\"y\"}},\"id\":\"e1810b15-2603-4391-89a9-80056c246ea1\",\"type\":\"Circle\"},{\"attributes\":{\"source\":{\"id\":\"576be348-4bf6-452f-9ad0-0f948802c7d4\",\"type\":\"ColumnDataSource\"}},\"id\":\"054100a4-363e-49f3-8031-e1a5e14a962b\",\"type\":\"CDSView\"},{\"attributes\":{},\"id\":\"7a3c5913-79bf-4fac-a1b2-afc6a4241d00\",\"type\":\"PanTool\"},{\"attributes\":{\"label\":{\"value\":\"de\"},\"renderers\":[{\"id\":\"f77bb0f0-e897-4b67-aba8-4d03cb42ee06\",\"type\":\"GlyphRenderer\"}]},\"id\":\"e0b3e13c-e1ed-4645-8f26-736f8387c6a7\",\"type\":\"LegendItem\"},{\"attributes\":{\"data_source\":{\"id\":\"f1781b46-ee4f-473e-b541-e6887e15a092\",\"type\":\"ColumnDataSource\"},\"glyph\":{\"id\":\"6d350401-a73c-47e4-9a1b-295e915a34dc\",\"type\":\"Line\"},\"hover_glyph\":null,\"muted_glyph\":null,\"nonselection_glyph\":{\"id\":\"f17a8d73-216e-4ee7-b83b-290dc8f6cc85\",\"type\":\"Line\"},\"selection_glyph\":null,\"view\":{\"id\":\"9ac2465c-d75d-46e7-a826-8bdc4383320c\",\"type\":\"CDSView\"}},\"id\":\"ffe777ff-1478-42cf-9c3d-992b894a4276\",\"type\":\"GlyphRenderer\"},{\"attributes\":{\"fill_color\":{\"value\":\"white\"},\"line_color\":{\"value\":\"#ffffbf\"},\"size\":{\"units\":\"screen\",\"value\":8},\"x\":{\"field\":\"x\"},\"y\":{\"field\":\"y\"}},\"id\":\"fdec703b-5d45-409f-bc2f-fbaf42221a84\",\"type\":\"Circle\"},{\"attributes\":{\"callback\":null,\"column_names\":[\"x\",\"y\"],\"data\":{\"x\":[2008,2009,2010,2011,2012,2013,2014,2015,2016],\"y\":[1370,2972,5601,10363,13862,14158,15452,13486,8019]}},\"id\":\"576be348-4bf6-452f-9ad0-0f948802c7d4\",\"type\":\"ColumnDataSource\"},{\"attributes\":{},\"id\":\"6012a409-353b-4513-9858-878ba34fc945\",\"type\":\"HelpTool\"},{\"attributes\":{\"label\":{\"value\":\"gb\"},\"renderers\":[{\"id\":\"aea62f6e-9f23-4a66-935a-552240208051\",\"type\":\"GlyphRenderer\"}]},\"id\":\"10d3700b-836b-42b1-98ab-2b95337c4b47\",\"type\":\"LegendItem\"},{\"attributes\":{\"callback\":null,\"column_names\":[\"x\",\"y\"],\"data\":{\"x\":[2007,2008,2009,2010,2011,2012,2013,2014,2015,2016],\"y\":[3,8451,15947,28802,54710,71209,78029,90094,82353,49889]}},\"id\":\"79b08399-5c0f-4c8d-8b1a-94d43782b444\",\"type\":\"ColumnDataSource\"},{\"attributes\":{\"label\":{\"value\":\"in\"},\"renderers\":[{\"id\":\"3b78ca90-bad3-426a-aa14-32b5c2cc2e4d\",\"type\":\"GlyphRenderer\"}]},\"id\":\"99a4f6cb-04a5-4029-9026-d8902666595e\",\"type\":\"LegendItem\"},{\"attributes\":{\"source\":{\"id\":\"79b08399-5c0f-4c8d-8b1a-94d43782b444\",\"type\":\"ColumnDataSource\"}},\"id\":\"a7149a20-e25a-4fc7-b62b-bc625ed17435\",\"type\":\"CDSView\"},{\"attributes\":{\"callback\":null,\"column_names\":[\"x\",\"y\"],\"data\":{\"x\":[2008,2009,2010,2011,2012,2013,2014,2015,2016],\"y\":[384,1026,2677,7009,13035,19182,18955,19810,13683]}},\"id\":\"6b7ae624-8454-4833-89ef-5d297ed9163d\",\"type\":\"ColumnDataSource\"},{\"attributes\":{\"source\":{\"id\":\"c34a9837-093e-45f6-b3c4-f7a1ff3e911f\",\"type\":\"ColumnDataSource\"}},\"id\":\"c20cfda9-3b1b-4776-9122-b2da8c43e350\",\"type\":\"CDSView\"},{\"attributes\":{\"source\":{\"id\":\"a9a7604b-8b92-4b05-8170-ab57716fa3c1\",\"type\":\"ColumnDataSource\"}},\"id\":\"8d9afe51-dd39-4e38-a844-d8e838fb5bc5\",\"type\":\"CDSView\"},{\"attributes\":{\"callback\":null,\"column_names\":[\"x\",\"y\"],\"data\":{\"x\":[2008,2009,2010,2011,2012,2013,2014,2015,2016],\"y\":[290,946,2597,6793,12472,17464,21972,23749,15646]}},\"id\":\"245ef69c-dc8d-4778-a167-1a64da6339ab\",\"type\":\"ColumnDataSource\"},{\"attributes\":{\"fill_color\":{\"value\":\"white\"},\"line_color\":{\"value\":\"#d7191c\"},\"size\":{\"units\":\"screen\",\"value\":8},\"x\":{\"field\":\"x\"},\"y\":{\"field\":\"y\"}},\"id\":\"00db8aa4-2a75-4d7e-bbc9-9bf4d90c27a6\",\"type\":\"Circle\"},{\"attributes\":{},\"id\":\"dee4214e-6310-4bf9-a35a-1e42b2df7670\",\"type\":\"LinearScale\"},{\"attributes\":{\"bottom_units\":\"screen\",\"fill_alpha\":{\"value\":0.5},\"fill_color\":{\"value\":\"lightgrey\"},\"left_units\":\"screen\",\"level\":\"overlay\",\"line_alpha\":{\"value\":1.0},\"line_color\":{\"value\":\"black\"},\"line_dash\":[4,4],\"line_width\":{\"value\":2},\"plot\":null,\"render_mode\":\"css\",\"right_units\":\"screen\",\"top_units\":\"screen\"},\"id\":\"3a135c07-d1f3-4fe9-bf63-0f470bc924d7\",\"type\":\"BoxAnnotation\"},{\"attributes\":{\"line_color\":{\"value\":\"#2b83ba\"},\"x\":{\"field\":\"x\"},\"y\":{\"field\":\"y\"}},\"id\":\"6d350401-a73c-47e4-9a1b-295e915a34dc\",\"type\":\"Line\"},{\"attributes\":{\"fill_alpha\":{\"value\":0.1},\"fill_color\":{\"value\":\"#1f77b4\"},\"line_alpha\":{\"value\":0.1},\"line_color\":{\"value\":\"#1f77b4\"},\"size\":{\"units\":\"screen\",\"value\":8},\"x\":{\"field\":\"x\"},\"y\":{\"field\":\"y\"}},\"id\":\"9baf8364-233e-433c-ac7d-f0d356949cdd\",\"type\":\"Circle\"},{\"attributes\":{\"line_color\":{\"value\":\"#ffffbf\"},\"x\":{\"field\":\"x\"},\"y\":{\"field\":\"y\"}},\"id\":\"dddd7195-817d-4cc3-8720-ca6fccdac21f\",\"type\":\"Line\"},{\"attributes\":{\"source\":{\"id\":\"f1781b46-ee4f-473e-b541-e6887e15a092\",\"type\":\"ColumnDataSource\"}},\"id\":\"9ac2465c-d75d-46e7-a826-8bdc4383320c\",\"type\":\"CDSView\"},{\"attributes\":{\"plot\":{\"id\":\"7af579bc-9de3-4875-a3f0-28cae1e4206f\",\"subtype\":\"Figure\",\"type\":\"Plot\"},\"ticker\":{\"id\":\"843b4381-fc91-4a2a-8654-d7bc6e8e6f09\",\"type\":\"BasicTicker\"}},\"id\":\"c552e877-4e4a-4230-a6fb-4b6aec80363e\",\"type\":\"Grid\"},{\"attributes\":{\"items\":[{\"id\":\"064121a0-fb87-4ff8-bd2f-51894eb1fade\",\"type\":\"LegendItem\"},{\"id\":\"99a4f6cb-04a5-4029-9026-d8902666595e\",\"type\":\"LegendItem\"},{\"id\":\"e25ffd6a-cc5f-4953-8771-42697db4f02d\",\"type\":\"LegendItem\"},{\"id\":\"10d3700b-836b-42b1-98ab-2b95337c4b47\",\"type\":\"LegendItem\"},{\"id\":\"e0b3e13c-e1ed-4645-8f26-736f8387c6a7\",\"type\":\"LegendItem\"}],\"location\":\"top_left\",\"plot\":{\"id\":\"7af579bc-9de3-4875-a3f0-28cae1e4206f\",\"subtype\":\"Figure\",\"type\":\"Plot\"}},\"id\":\"11ecebdd-c9d8-45ce-8028-5f4306cb9c95\",\"type\":\"Legend\"},{\"attributes\":{\"data_source\":{\"id\":\"5c5e5e3f-1eb5-4b5a-b30b-0cf9657d23e7\",\"type\":\"ColumnDataSource\"},\"glyph\":{\"id\":\"1ebbfecb-9c76-46ac-95eb-627184ad67dd\",\"type\":\"Line\"},\"hover_glyph\":null,\"muted_glyph\":null,\"nonselection_glyph\":{\"id\":\"78ef6133-6131-4966-a152-b557256bdf72\",\"type\":\"Line\"},\"selection_glyph\":null,\"view\":{\"id\":\"1471b2cd-a261-4640-9e8a-5a493239e11f\",\"type\":\"CDSView\"}},\"id\":\"3b78ca90-bad3-426a-aa14-32b5c2cc2e4d\",\"type\":\"GlyphRenderer\"},{\"attributes\":{\"data_source\":{\"id\":\"c34a9837-093e-45f6-b3c4-f7a1ff3e911f\",\"type\":\"ColumnDataSource\"},\"glyph\":{\"id\":\"fdec703b-5d45-409f-bc2f-fbaf42221a84\",\"type\":\"Circle\"},\"hover_glyph\":null,\"muted_glyph\":null,\"nonselection_glyph\":{\"id\":\"d9f7adc8-2b6c-403c-8d1d-6a8e3c277a91\",\"type\":\"Circle\"},\"selection_glyph\":null,\"view\":{\"id\":\"c20cfda9-3b1b-4776-9122-b2da8c43e350\",\"type\":\"CDSView\"}},\"id\":\"8798bc66-4647-43cf-9c6d-eb32aeb327cc\",\"type\":\"GlyphRenderer\"},{\"attributes\":{\"fill_alpha\":{\"value\":0.1},\"fill_color\":{\"value\":\"#1f77b4\"},\"line_alpha\":{\"value\":0.1},\"line_color\":{\"value\":\"#1f77b4\"},\"size\":{\"units\":\"screen\",\"value\":8},\"x\":{\"field\":\"x\"},\"y\":{\"field\":\"y\"}},\"id\":\"1d89917a-ab7a-4bc6-b497-37ccdd768e33\",\"type\":\"Circle\"},{\"attributes\":{\"data_source\":{\"id\":\"245ef69c-dc8d-4778-a167-1a64da6339ab\",\"type\":\"ColumnDataSource\"},\"glyph\":{\"id\":\"e1810b15-2603-4391-89a9-80056c246ea1\",\"type\":\"Circle\"},\"hover_glyph\":null,\"muted_glyph\":null,\"nonselection_glyph\":{\"id\":\"1d89917a-ab7a-4bc6-b497-37ccdd768e33\",\"type\":\"Circle\"},\"selection_glyph\":null,\"view\":{\"id\":\"a2c9691a-1c24-4505-9968-efd1863c4b29\",\"type\":\"CDSView\"}},\"id\":\"4d08f481-625c-4448-b3da-635c9eeb25dd\",\"type\":\"GlyphRenderer\"},{\"attributes\":{\"overlay\":{\"id\":\"3a135c07-d1f3-4fe9-bf63-0f470bc924d7\",\"type\":\"BoxAnnotation\"}},\"id\":\"bb9753b4-5ff6-4691-98ac-9399395eb052\",\"type\":\"BoxZoomTool\"},{\"attributes\":{\"data_source\":{\"id\":\"79b08399-5c0f-4c8d-8b1a-94d43782b444\",\"type\":\"ColumnDataSource\"},\"glyph\":{\"id\":\"94f2f056-3aa7-437f-8a0c-f8cbd517847c\",\"type\":\"Circle\"},\"hover_glyph\":null,\"muted_glyph\":null,\"nonselection_glyph\":{\"id\":\"9baf8364-233e-433c-ac7d-f0d356949cdd\",\"type\":\"Circle\"},\"selection_glyph\":null,\"view\":{\"id\":\"a7149a20-e25a-4fc7-b62b-bc625ed17435\",\"type\":\"CDSView\"}},\"id\":\"750d50a1-8724-42f6-ba06-e9c7a01d7163\",\"type\":\"GlyphRenderer\"},{\"attributes\":{\"data_source\":{\"id\":\"6b7ae624-8454-4833-89ef-5d297ed9163d\",\"type\":\"ColumnDataSource\"},\"glyph\":{\"id\":\"dddd7195-817d-4cc3-8720-ca6fccdac21f\",\"type\":\"Line\"},\"hover_glyph\":null,\"muted_glyph\":null,\"nonselection_glyph\":{\"id\":\"f7b4b801-53b6-48cf-81e2-95d736051121\",\"type\":\"Line\"},\"selection_glyph\":null,\"view\":{\"id\":\"7dec0533-7bd7-4a5b-bee4-58675081a55e\",\"type\":\"CDSView\"}},\"id\":\"c87b7cec-fe94-481a-ad71-324e4796456f\",\"type\":\"GlyphRenderer\"},{\"attributes\":{\"callback\":null,\"column_names\":[\"x\",\"y\"],\"data\":{\"x\":[2008,2009,2010,2011,2012,2013,2014,2015,2016],\"y\":[990,2560,4724,8525,11499,11768,12367,11460,6210]}},\"id\":\"a9a7604b-8b92-4b05-8170-ab57716fa3c1\",\"type\":\"ColumnDataSource\"},{\"attributes\":{\"source\":{\"id\":\"245ef69c-dc8d-4778-a167-1a64da6339ab\",\"type\":\"ColumnDataSource\"}},\"id\":\"a2c9691a-1c24-4505-9968-efd1863c4b29\",\"type\":\"CDSView\"},{\"attributes\":{\"source\":{\"id\":\"55a36aab-d805-42bf-b181-96e4576912cd\",\"type\":\"ColumnDataSource\"}},\"id\":\"f023f032-c96e-443f-b7d6-4754ad683bd2\",\"type\":\"CDSView\"},{\"attributes\":{\"below\":[{\"id\":\"40082584-d427-4e3c-a89d-c3383888cea9\",\"type\":\"LinearAxis\"}],\"left\":[{\"id\":\"19be0dfc-b0b9-450e-9b55-7fc15f184667\",\"type\":\"LinearAxis\"}],\"plot_height\":500,\"renderers\":[{\"id\":\"40082584-d427-4e3c-a89d-c3383888cea9\",\"type\":\"LinearAxis\"},{\"id\":\"c552e877-4e4a-4230-a6fb-4b6aec80363e\",\"type\":\"Grid\"},{\"id\":\"19be0dfc-b0b9-450e-9b55-7fc15f184667\",\"type\":\"LinearAxis\"},{\"id\":\"45554376-f99c-41a3-afe7-9230778d609e\",\"type\":\"Grid\"},{\"id\":\"3a135c07-d1f3-4fe9-bf63-0f470bc924d7\",\"type\":\"BoxAnnotation\"},{\"id\":\"11ecebdd-c9d8-45ce-8028-5f4306cb9c95\",\"type\":\"Legend\"},{\"id\":\"ffe777ff-1478-42cf-9c3d-992b894a4276\",\"type\":\"GlyphRenderer\"},{\"id\":\"750d50a1-8724-42f6-ba06-e9c7a01d7163\",\"type\":\"GlyphRenderer\"},{\"id\":\"3b78ca90-bad3-426a-aa14-32b5c2cc2e4d\",\"type\":\"GlyphRenderer\"},{\"id\":\"4d08f481-625c-4448-b3da-635c9eeb25dd\",\"type\":\"GlyphRenderer\"},{\"id\":\"c87b7cec-fe94-481a-ad71-324e4796456f\",\"type\":\"GlyphRenderer\"},{\"id\":\"8798bc66-4647-43cf-9c6d-eb32aeb327cc\",\"type\":\"GlyphRenderer\"},{\"id\":\"aea62f6e-9f23-4a66-935a-552240208051\",\"type\":\"GlyphRenderer\"},{\"id\":\"2062654e-76b0-4be6-a959-50219d646980\",\"type\":\"GlyphRenderer\"},{\"id\":\"f77bb0f0-e897-4b67-aba8-4d03cb42ee06\",\"type\":\"GlyphRenderer\"},{\"id\":\"64302527-49e5-441f-ae75-a7d8583469a1\",\"type\":\"GlyphRenderer\"}],\"title\":{\"id\":\"8268a967-28bd-42b1-9764-568f4e021f87\",\"type\":\"Title\"},\"toolbar\":{\"id\":\"ab5dca47-812f-4005-ac12-0f4b48ffb5be\",\"type\":\"Toolbar\"},\"x_range\":{\"id\":\"c08c782b-7a24-40bf-bc8b-d9a5ed2017bf\",\"type\":\"DataRange1d\"},\"x_scale\":{\"id\":\"9d1f0440-3191-40b2-b433-f57935ecd6bf\",\"type\":\"LinearScale\"},\"y_range\":{\"id\":\"ec3c83e4-7177-4a15-93f9-0287848d17b6\",\"type\":\"DataRange1d\"},\"y_scale\":{\"id\":\"dee4214e-6310-4bf9-a35a-1e42b2df7670\",\"type\":\"LinearScale\"}},\"id\":\"7af579bc-9de3-4875-a3f0-28cae1e4206f\",\"subtype\":\"Figure\",\"type\":\"Plot\"},{\"attributes\":{\"callback\":null,\"column_names\":[\"x\",\"y\"],\"data\":{\"x\":[2008,2009,2010,2011,2012,2013,2014,2015,2016],\"y\":[1370,2972,5601,10363,13862,14158,15452,13486,8019]}},\"id\":\"0f66c473-3157-4f9e-a680-c59d8a97a53b\",\"type\":\"ColumnDataSource\"},{\"attributes\":{},\"id\":\"9d1f0440-3191-40b2-b433-f57935ecd6bf\",\"type\":\"LinearScale\"},{\"attributes\":{\"data_source\":{\"id\":\"576be348-4bf6-452f-9ad0-0f948802c7d4\",\"type\":\"ColumnDataSource\"},\"glyph\":{\"id\":\"5713a3f2-972c-4f24-b2d5-897707385fe0\",\"type\":\"Line\"},\"hover_glyph\":null,\"muted_glyph\":null,\"nonselection_glyph\":{\"id\":\"0b95d892-2cf4-4778-9bff-d4a895ec4ce3\",\"type\":\"Line\"},\"selection_glyph\":null,\"view\":{\"id\":\"054100a4-363e-49f3-8031-e1a5e14a962b\",\"type\":\"CDSView\"}},\"id\":\"aea62f6e-9f23-4a66-935a-552240208051\",\"type\":\"GlyphRenderer\"},{\"attributes\":{\"plot\":null,\"text\":\"No. of users in countries\"},\"id\":\"8268a967-28bd-42b1-9764-568f4e021f87\",\"type\":\"Title\"},{\"attributes\":{\"data_source\":{\"id\":\"0f66c473-3157-4f9e-a680-c59d8a97a53b\",\"type\":\"ColumnDataSource\"},\"glyph\":{\"id\":\"4c1ba67a-cb6d-450d-b55c-07bf1b570c82\",\"type\":\"Circle\"},\"hover_glyph\":null,\"muted_glyph\":null,\"nonselection_glyph\":{\"id\":\"d24d0507-f137-4aca-97a7-4c2921336609\",\"type\":\"Circle\"},\"selection_glyph\":null,\"view\":{\"id\":\"8e25695d-a330-4f17-b68e-ab576687dfea\",\"type\":\"CDSView\"}},\"id\":\"2062654e-76b0-4be6-a959-50219d646980\",\"type\":\"GlyphRenderer\"},{\"attributes\":{},\"id\":\"37defe63-1994-4008-9c67-fa617f21ee2b\",\"type\":\"BasicTickFormatter\"},{\"attributes\":{},\"id\":\"4dc45644-b3cd-4f43-855f-4496874a350e\",\"type\":\"ResetTool\"},{\"attributes\":{\"source\":{\"id\":\"6b7ae624-8454-4833-89ef-5d297ed9163d\",\"type\":\"ColumnDataSource\"}},\"id\":\"7dec0533-7bd7-4a5b-bee4-58675081a55e\",\"type\":\"CDSView\"},{\"attributes\":{\"callback\":null,\"column_names\":[\"x\",\"y\"],\"data\":{\"x\":[2008,2009,2010,2011,2012,2013,2014,2015,2016],\"y\":[384,1026,2677,7009,13035,19182,18955,19810,13683]}},\"id\":\"c34a9837-093e-45f6-b3c4-f7a1ff3e911f\",\"type\":\"ColumnDataSource\"},{\"attributes\":{\"callback\":null,\"tooltips\":[[\"year\",\"$x{(0000)}\"],[\"users\",\"$y{(0.00 a)}\"]]},\"id\":\"bfbd062a-c62d-47bb-8ca5-a6fc944bbb12\",\"type\":\"HoverTool\"},{\"attributes\":{},\"id\":\"843b4381-fc91-4a2a-8654-d7bc6e8e6f09\",\"type\":\"BasicTicker\"},{\"attributes\":{},\"id\":\"061e2c1b-de67-491b-841d-21411d88c8e8\",\"type\":\"SaveTool\"},{\"attributes\":{\"label\":{\"value\":\"us\"},\"renderers\":[{\"id\":\"ffe777ff-1478-42cf-9c3d-992b894a4276\",\"type\":\"GlyphRenderer\"}]},\"id\":\"064121a0-fb87-4ff8-bd2f-51894eb1fade\",\"type\":\"LegendItem\"},{\"attributes\":{\"fill_alpha\":{\"value\":0.1},\"fill_color\":{\"value\":\"#1f77b4\"},\"line_alpha\":{\"value\":0.1},\"line_color\":{\"value\":\"#1f77b4\"},\"size\":{\"units\":\"screen\",\"value\":8},\"x\":{\"field\":\"x\"},\"y\":{\"field\":\"y\"}},\"id\":\"d9f7adc8-2b6c-403c-8d1d-6a8e3c277a91\",\"type\":\"Circle\"},{\"attributes\":{\"active_drag\":\"auto\",\"active_inspect\":\"auto\",\"active_scroll\":\"auto\",\"active_tap\":\"auto\",\"tools\":[{\"id\":\"7a3c5913-79bf-4fac-a1b2-afc6a4241d00\",\"type\":\"PanTool\"},{\"id\":\"70dbee62-6785-4ef0-b226-698f18875d5d\",\"type\":\"WheelZoomTool\"},{\"id\":\"bb9753b4-5ff6-4691-98ac-9399395eb052\",\"type\":\"BoxZoomTool\"},{\"id\":\"061e2c1b-de67-491b-841d-21411d88c8e8\",\"type\":\"SaveTool\"},{\"id\":\"4dc45644-b3cd-4f43-855f-4496874a350e\",\"type\":\"ResetTool\"},{\"id\":\"6012a409-353b-4513-9858-878ba34fc945\",\"type\":\"HelpTool\"},{\"id\":\"bfbd062a-c62d-47bb-8ca5-a6fc944bbb12\",\"type\":\"HoverTool\"}]},\"id\":\"ab5dca47-812f-4005-ac12-0f4b48ffb5be\",\"type\":\"Toolbar\"},{\"attributes\":{\"axis_label\":\"Year\",\"formatter\":{\"id\":\"37defe63-1994-4008-9c67-fa617f21ee2b\",\"type\":\"BasicTickFormatter\"},\"plot\":{\"id\":\"7af579bc-9de3-4875-a3f0-28cae1e4206f\",\"subtype\":\"Figure\",\"type\":\"Plot\"},\"ticker\":{\"id\":\"843b4381-fc91-4a2a-8654-d7bc6e8e6f09\",\"type\":\"BasicTicker\"}},\"id\":\"40082584-d427-4e3c-a89d-c3383888cea9\",\"type\":\"LinearAxis\"},{\"attributes\":{\"callback\":null},\"id\":\"c08c782b-7a24-40bf-bc8b-d9a5ed2017bf\",\"type\":\"DataRange1d\"},{\"attributes\":{\"dimension\":1,\"plot\":{\"id\":\"7af579bc-9de3-4875-a3f0-28cae1e4206f\",\"subtype\":\"Figure\",\"type\":\"Plot\"},\"ticker\":{\"id\":\"867c1669-f71d-4071-befa-b3588c0551e2\",\"type\":\"BasicTicker\"}},\"id\":\"45554376-f99c-41a3-afe7-9230778d609e\",\"type\":\"Grid\"},{\"attributes\":{\"callback\":null,\"column_names\":[\"x\",\"y\"],\"data\":{\"x\":[2007,2008,2009,2010,2011,2012,2013,2014,2015,2016],\"y\":[3,8451,15947,28802,54710,71209,78029,90094,82353,49889]}},\"id\":\"f1781b46-ee4f-473e-b541-e6887e15a092\",\"type\":\"ColumnDataSource\"},{\"attributes\":{\"callback\":null},\"id\":\"ec3c83e4-7177-4a15-93f9-0287848d17b6\",\"type\":\"DataRange1d\"},{\"attributes\":{},\"id\":\"867c1669-f71d-4071-befa-b3588c0551e2\",\"type\":\"BasicTicker\"},{\"attributes\":{\"line_color\":{\"value\":\"#d7191c\"},\"x\":{\"field\":\"x\"},\"y\":{\"field\":\"y\"}},\"id\":\"e652c262-69b2-4689-be78-8f368186c1cf\",\"type\":\"Line\"},{\"attributes\":{\"line_alpha\":{\"value\":0.1},\"line_color\":{\"value\":\"#1f77b4\"},\"x\":{\"field\":\"x\"},\"y\":{\"field\":\"y\"}},\"id\":\"78ef6133-6131-4966-a152-b557256bdf72\",\"type\":\"Line\"},{\"attributes\":{\"source\":{\"id\":\"0f66c473-3157-4f9e-a680-c59d8a97a53b\",\"type\":\"ColumnDataSource\"}},\"id\":\"8e25695d-a330-4f17-b68e-ab576687dfea\",\"type\":\"CDSView\"},{\"attributes\":{\"axis_label\":\"No. of Users\",\"formatter\":{\"id\":\"be75fbde-fe26-4eb5-b93e-177cd3d6af9b\",\"type\":\"BasicTickFormatter\"},\"plot\":{\"id\":\"7af579bc-9de3-4875-a3f0-28cae1e4206f\",\"subtype\":\"Figure\",\"type\":\"Plot\"},\"ticker\":{\"id\":\"867c1669-f71d-4071-befa-b3588c0551e2\",\"type\":\"BasicTicker\"}},\"id\":\"19be0dfc-b0b9-450e-9b55-7fc15f184667\",\"type\":\"LinearAxis\"},{\"attributes\":{\"data_source\":{\"id\":\"55a36aab-d805-42bf-b181-96e4576912cd\",\"type\":\"ColumnDataSource\"},\"glyph\":{\"id\":\"00db8aa4-2a75-4d7e-bbc9-9bf4d90c27a6\",\"type\":\"Circle\"},\"hover_glyph\":null,\"muted_glyph\":null,\"nonselection_glyph\":{\"id\":\"8ad35136-a039-4648-951d-2263ad507a4c\",\"type\":\"Circle\"},\"selection_glyph\":null,\"view\":{\"id\":\"f023f032-c96e-443f-b7d6-4754ad683bd2\",\"type\":\"CDSView\"}},\"id\":\"64302527-49e5-441f-ae75-a7d8583469a1\",\"type\":\"GlyphRenderer\"},{\"attributes\":{\"source\":{\"id\":\"5c5e5e3f-1eb5-4b5a-b30b-0cf9657d23e7\",\"type\":\"ColumnDataSource\"}},\"id\":\"1471b2cd-a261-4640-9e8a-5a493239e11f\",\"type\":\"CDSView\"},{\"attributes\":{},\"id\":\"be75fbde-fe26-4eb5-b93e-177cd3d6af9b\",\"type\":\"BasicTickFormatter\"},{\"attributes\":{\"fill_color\":{\"value\":\"white\"},\"line_color\":{\"value\":\"#fdae61\"},\"size\":{\"units\":\"screen\",\"value\":8},\"x\":{\"field\":\"x\"},\"y\":{\"field\":\"y\"}},\"id\":\"4c1ba67a-cb6d-450d-b55c-07bf1b570c82\",\"type\":\"Circle\"},{\"attributes\":{\"line_color\":{\"value\":\"#fdae61\"},\"x\":{\"field\":\"x\"},\"y\":{\"field\":\"y\"}},\"id\":\"5713a3f2-972c-4f24-b2d5-897707385fe0\",\"type\":\"Line\"}],\"root_ids\":[\"7af579bc-9de3-4875-a3f0-28cae1e4206f\"]},\"title\":\"Bokeh Application\",\"version\":\"0.12.10\"}};\n",
       "    var render_items = [{\"docid\":\"621d7ac2-ace2-409b-8a19-56889d069a2c\",\"elementid\":\"0be46bee-61b5-4b31-8517-d3dfae33d5c3\",\"modelid\":\"7af579bc-9de3-4875-a3f0-28cae1e4206f\"}];\n",
       "\n",
       "    root.Bokeh.embed.embed_items(docs_json, render_items);\n",
       "  }\n",
       "\n",
       "  if (root.Bokeh !== undefined) {\n",
       "    embed_document(root);\n",
       "  } else {\n",
       "    var attempts = 0;\n",
       "    var timer = setInterval(function(root) {\n",
       "      if (root.Bokeh !== undefined) {\n",
       "        embed_document(root);\n",
       "        clearInterval(timer);\n",
       "      }\n",
       "      attempts++;\n",
       "      if (attempts > 100) {\n",
       "        console.log(\"Bokeh: ERROR: Unable to embed document because BokehJS library is missing\")\n",
       "        clearInterval(timer);\n",
       "      }\n",
       "    }, 10, root)\n",
       "  }\n",
       "})(window);"
      ],
      "application/vnd.bokehjs_exec.v0+json": ""
     },
     "metadata": {
      "application/vnd.bokehjs_exec.v0+json": {
       "id": "7af579bc-9de3-4875-a3f0-28cae1e4206f"
      }
     },
     "output_type": "display_data"
    }
   ],
   "source": [
    "from bokeh.models import HoverTool\n",
    "from bokeh.palettes import Spectral5\n",
    "\n",
    "hover = HoverTool(tooltips=[\n",
    "    (\"year\", \"$x{(0000)}\"),\n",
    "    (\"users\", \"$y{(0.00 a)}\"),\n",
    "])\n",
    "\n",
    "p = figure(plot_height=500, y_axis_label=\"No. of Users\", x_axis_label=\"Year\", title=\"No. of users in countries\")\n",
    "p.add_tools(hover)\n",
    "\n",
    "countries = [\"us\", \"in\", \"cn\", \"gb\", \"de\"]\n",
    "colors = Spectral5\n",
    "\n",
    "for i, country in enumerate(countries):\n",
    "    odf4 = odf.loc[odf.country_code == country]\n",
    "    odf4 = odf4.sort_values(\"year\")\n",
    "\n",
    "    x = odf4['year']\n",
    "    y = odf4['count']\n",
    "\n",
    "    color = colors[i % len(colors)]\n",
    "    \n",
    "    p.line(x, y, color=color, legend=country)\n",
    "    p.circle(x, y, fill_color=\"white\", size=8, color=color)\n",
    "\n",
    "\n",
    "p.legend.location = \"top_left\"\n",
    "    \n",
    "show(p)"
   ]
  },
  {
   "cell_type": "markdown",
   "metadata": {},
   "source": [
    "### Where do Indian GitHub users live?"
   ]
  },
  {
   "cell_type": "code",
   "execution_count": 9,
   "metadata": {},
   "outputs": [],
   "source": [
    "df3 = df2.filter(\n",
    "    df.country_code == \"in\"\n",
    ")\n",
    "\n",
    "# df3.show()"
   ]
  },
  {
   "cell_type": "code",
   "execution_count": null,
   "metadata": {},
   "outputs": [],
   "source": [
    "# NCR = [\"Delhi\", \"New Delhi\", \"Gurgaon\", \"Noida\", \"Faridabad\"]\n",
    "\n",
    "df4 = (\n",
    "    df3\n",
    "    .filter(df.city.isNotNull())\n",
    "#     .select(\"city\", F.when(df.city.isin(NCR), \"Delhi (NCR)\").otherwise(df.city).name(\"region\"))\n",
    "    .select(\"city\")\n",
    "#     .groupby(\"region\")\n",
    "    .groupby(\"city\")\n",
    "    .count()\n",
    "    .sort(\"count\", ascending=False)\n",
    ")\n",
    "\n",
    "df4.show(50)"
   ]
  },
  {
   "cell_type": "code",
   "execution_count": 24,
   "metadata": {},
   "outputs": [],
   "source": [
    "df4.coalesce(1).write.json(\"user-india-city-count.json\")"
   ]
  },
  {
   "cell_type": "markdown",
   "metadata": {},
   "source": [
    "\n",
    "### Number of new users per month"
   ]
  },
  {
   "cell_type": "code",
   "execution_count": null,
   "metadata": {},
   "outputs": [],
   "source": [
    "users.limit(10).show()\n",
    "df3 = (\n",
    "    users\n",
    "    .where(users.created_at.isNotNull())\n",
    "    .select(F.year(users.created_at).name(\"year\"),\n",
    "            F.month(users.created_at).name(\"month\"))\n",
    "    .groupby(\"year\", \"month\")\n",
    "    .count()\n",
    "    .orderBy(\"count\", ascending=False)\n",
    ")\n",
    "\n",
    "# df3.show()\n",
    "df3.coalesce(1).write.json(\"user-year-month-count.json\")"
   ]
  }
 ],
 "metadata": {
  "kernelspec": {
   "display_name": "Python 3",
   "language": "python",
   "name": "python3"
  },
  "language_info": {
   "codemirror_mode": {
    "name": "ipython",
    "version": 3
   },
   "file_extension": ".py",
   "mimetype": "text/x-python",
   "name": "python",
   "nbconvert_exporter": "python",
   "pygments_lexer": "ipython3",
   "version": "3.6.3"
  }
 },
 "nbformat": 4,
 "nbformat_minor": 2
}
