{
 "cells": [
  {
   "cell_type": "code",
   "execution_count": 1,
   "metadata": {},
   "outputs": [],
   "source": [
    "import json\n",
    "\n",
    "from pyspark.sql import SparkSession\n",
    "import pyspark.sql.functions as F\n",
    "\n",
    "from pyspark.sql.types import *\n",
    "import pyspark.sql.types as spark_types\n",
    "\n",
    "import utils\n",
    "\n",
    "spark = SparkSession.builder.master(\"local\").appName(\"GH Users\").getOrCreate()"
   ]
  },
  {
   "cell_type": "code",
   "execution_count": 2,
   "metadata": {
    "collapsed": true
   },
   "outputs": [
    {
     "name": "stdout",
     "output_type": "stream",
     "text": [
      "102505\n"
     ]
    }
   ],
   "source": [
    "df = utils.read_csv(spark, path=\"/mnt/Data/GHTorrent/users.csv\")\n",
    "users = df\n",
    "# print(df.count())\n",
    "\n",
    "# Users who have perfectly mapped location data\n",
    "df2 = df.filter(df.country_code.isNotNull())\n",
    "# print(df2.count())\n",
    "\n",
    "# Users who are from India\n",
    "df4 = df2.where(df.country_code == \"in\")\n",
    "print(df4.count())\n",
    "\n",
    "# Users who have data in location field but which couldn't be mapped to a\n",
    "# country etc.\n",
    "# df3 = df.filter(df.country_code.isNull() & df.location.isNotNull())\n",
    "\n",
    "# df3.count()\n",
    "\n",
    "# Such users from India?\n",
    "# df4 = df3.filter(df.location.rlike(\"\\\\bIndia\\\\b\"))\n",
    "\n",
    "# People who claim to be from India\n",
    "# df5 = df_company.filter(df.location.rlike(\"\\\\bIndia\\\\b\"))"
   ]
  },
  {
   "cell_type": "markdown",
   "metadata": {},
   "source": [
    "### Companies with most GitHub users "
   ]
  },
  {
   "cell_type": "code",
   "execution_count": 16,
   "metadata": {
    "collapsed": true
   },
   "outputs": [
    {
     "name": "stdout",
     "output_type": "stream",
     "text": [
      "+------------------------------------------------+-------------+\n",
      "|company                                         |num_employees|\n",
      "+------------------------------------------------+-------------+\n",
      "|IIT Bombay                                      |206          |\n",
      "|Indiana University                              |187          |\n",
      "|IIT Kharagpur                                   |115          |\n",
      "|IIT Madras                                      |90           |\n",
      "|IIT Kanpur                                      |85           |\n",
      "|IIT Delhi                                       |72           |\n",
      "|IIT Guwahati                                    |70           |\n",
      "|IIT Roorkee                                     |61           |\n",
      "|Indian Institute of Science                     |56           |\n",
      "|IIT                                             |43           |\n",
      "|Indiana University Bloomington                  |35           |\n",
      "|Indian Institute of Technology                  |31           |\n",
      "|IIT Jodhpur                                     |20           |\n",
      "|IIT Hyderabad                                   |18           |\n",
      "|Indian Institute of Technology, Kharagpur       |17           |\n",
      "|Indian Institute of Technology Kharagpur        |16           |\n",
      "|IIT Indore                                      |16           |\n",
      "|IITB                                            |16           |\n",
      "|Indian Institute of Technology Bombay           |15           |\n",
      "|IIT BHU                                         |13           |\n",
      "|Indian Institute of Technology, Bombay          |12           |\n",
      "|Indian Institute of Technology Kanpur           |12           |\n",
      "|IIT Ropar                                       |12           |\n",
      "|Indian Institute of Technology, Kanpur          |12           |\n",
      "|IITM                                            |12           |\n",
      "|IIT Mandi                                       |11           |\n",
      "|Indian Statistical Institute                    |11           |\n",
      "|IIT-BHU                                         |10           |\n",
      "|Indian Institute of Technology Madras           |9            |\n",
      "|Indian Institute of Technology Delhi            |9            |\n",
      "|Indian Institute of Technology Roorkee          |9            |\n",
      "|IIT KANPUR                                      |8            |\n",
      "|Indian Institute of Space Science and Technology|8            |\n",
      "|Indiana University, Bloomington                 |8            |\n",
      "|IITK                                            |8            |\n",
      "|IIT Patna                                       |7            |\n",
      "|IIT PATNA                                       |7            |\n",
      "|Indian Statistical Institute, Kolkata           |7            |\n",
      "|Indiana University                              |7            |\n",
      "|IIT bombay                                      |6            |\n",
      "|Indian Institute of Technology, Roorkee         |6            |\n",
      "|IIT MADRAS                                      |6            |\n",
      "|Indian Institute of Technology, Delhi           |6            |\n",
      "|IIT KHARAGPUR                                   |6            |\n",
      "|IIT Gandhinagar                                 |5            |\n",
      "|IITH                                            |5            |\n",
      "|Indiana University Southeast                    |5            |\n",
      "|Indian Institute of Technology Guwahati         |5            |\n",
      "|Indian Institute of Technology, Madras          |5            |\n",
      "|Indian Institute of Technology Hyderabad        |5            |\n",
      "+------------------------------------------------+-------------+\n",
      "only showing top 50 rows\n",
      "\n"
     ]
    }
   ],
   "source": [
    "not_really_companies = [\"NA\", \"N/A\", \"None\", \"none\", \"-\", \"Private\", \"home\", \"Personal\", \"Student\", \"student\", \"self\", \"Self\", \"Home\", \"Freelance\", \"Freelancer\"]\n",
    "\n",
    "not_really_companies += [\"Japan\", \"China\", \"MIT\", \"UC Berkeley\"]\n",
    "\n",
    "df_company = (\n",
    "    df\n",
    "    .where(\n",
    "        (df.company.isNotNull()) \n",
    "        & ~ (df.company.isin(not_really_companies)) \n",
    "        & ~ (df.company.contains(\"CLICK \"))\n",
    "        \n",
    "        # Currently we're only focussing on Corporates\n",
    "#         & ~ (df.company.contains(\"University\"))\n",
    "#         & ~ (df.company.contains(\"IIT\"))\n",
    "    )\n",
    ")\n",
    "\n",
    "MSFT = [\"Microsoft Corporation\", \"Microsoft\"]\n",
    "\n",
    "# Count & Sort\n",
    "df6 = (\n",
    "    df_company\n",
    "    .where(\n",
    "#         (df_company.country_code == \"in\")\n",
    "         (df_company.company.startswith(\"IIT\"))\n",
    "        | (df_company.company.startswith(\"Indian\"))\n",
    "    )\n",
    "#     .select(\"company\", F.when(df_company.company.isin(MSFT), \"Microsoft\").otherwise(df_company.company).name(\"corporate\"))\n",
    "    .groupby(\"company\")\n",
    "    .count()\n",
    "    .withColumnRenamed(\"count\", \"num_employees\")\n",
    "    .sort(\"count\", ascending=False)\n",
    ")\n",
    "\n",
    "df6.show(50, truncate=False)"
   ]
  },
  {
   "cell_type": "markdown",
   "metadata": {},
   "source": [
    "### Users Year Country Count"
   ]
  },
  {
   "cell_type": "code",
   "execution_count": null,
   "metadata": {
    "collapsed": true
   },
   "outputs": [],
   "source": [
    "df4 = (\n",
    "    df2\n",
    "    .select(F.year(df2.created_at).name(\"year\"), \"country_code\")\n",
    "    .groupby(\"year\", \"country_code\")\n",
    "    .count()\n",
    "    .sort(\"count\", ascending=False)\n",
    ")\n",
    "\n",
    "# df4.show()"
   ]
  },
  {
   "cell_type": "code",
   "execution_count": null,
   "metadata": {
    "collapsed": true
   },
   "outputs": [],
   "source": [
    "# df4.count()\n",
    "df4.coalesce(1).write.json(\"user-year-country-count.json\")"
   ]
  },
  {
   "cell_type": "markdown",
   "metadata": {},
   "source": [
    "### Pie chart of countries distribution"
   ]
  },
  {
   "cell_type": "code",
   "execution_count": 1,
   "metadata": {},
   "outputs": [
    {
     "data": {
      "text/html": [
       "<div>\n",
       "<style>\n",
       "    .dataframe thead tr:only-child th {\n",
       "        text-align: right;\n",
       "    }\n",
       "\n",
       "    .dataframe thead th {\n",
       "        text-align: left;\n",
       "    }\n",
       "\n",
       "    .dataframe tbody tr th {\n",
       "        vertical-align: top;\n",
       "    }\n",
       "</style>\n",
       "<table border=\"1\" class=\"dataframe\">\n",
       "  <thead>\n",
       "    <tr style=\"text-align: right;\">\n",
       "      <th></th>\n",
       "      <th>country_code</th>\n",
       "      <th>count</th>\n",
       "    </tr>\n",
       "  </thead>\n",
       "  <tbody>\n",
       "    <tr>\n",
       "      <th>0</th>\n",
       "      <td>us</td>\n",
       "      <td>481311</td>\n",
       "    </tr>\n",
       "    <tr>\n",
       "      <th>1</th>\n",
       "      <td>in</td>\n",
       "      <td>102505</td>\n",
       "    </tr>\n",
       "    <tr>\n",
       "      <th>2</th>\n",
       "      <td>cn</td>\n",
       "      <td>96327</td>\n",
       "    </tr>\n",
       "    <tr>\n",
       "      <th>3</th>\n",
       "      <td>gb</td>\n",
       "      <td>85605</td>\n",
       "    </tr>\n",
       "    <tr>\n",
       "      <th>4</th>\n",
       "      <td>de</td>\n",
       "      <td>70331</td>\n",
       "    </tr>\n",
       "    <tr>\n",
       "      <th>5</th>\n",
       "      <td>br</td>\n",
       "      <td>52196</td>\n",
       "    </tr>\n",
       "    <tr>\n",
       "      <th>6</th>\n",
       "      <td>ca</td>\n",
       "      <td>51814</td>\n",
       "    </tr>\n",
       "    <tr>\n",
       "      <th>7</th>\n",
       "      <td>fr</td>\n",
       "      <td>48813</td>\n",
       "    </tr>\n",
       "    <tr>\n",
       "      <th>8</th>\n",
       "      <td>ru</td>\n",
       "      <td>42426</td>\n",
       "    </tr>\n",
       "    <tr>\n",
       "      <th>9</th>\n",
       "      <td>au</td>\n",
       "      <td>31885</td>\n",
       "    </tr>\n",
       "    <tr>\n",
       "      <th>10</th>\n",
       "      <td>jp</td>\n",
       "      <td>30176</td>\n",
       "    </tr>\n",
       "    <tr>\n",
       "      <th>11</th>\n",
       "      <td>nl</td>\n",
       "      <td>27232</td>\n",
       "    </tr>\n",
       "    <tr>\n",
       "      <th>12</th>\n",
       "      <td>es</td>\n",
       "      <td>26928</td>\n",
       "    </tr>\n",
       "    <tr>\n",
       "      <th>13</th>\n",
       "      <td>ua</td>\n",
       "      <td>22814</td>\n",
       "    </tr>\n",
       "    <tr>\n",
       "      <th>14</th>\n",
       "      <td>se</td>\n",
       "      <td>20955</td>\n",
       "    </tr>\n",
       "    <tr>\n",
       "      <th>15</th>\n",
       "      <td>pl</td>\n",
       "      <td>19943</td>\n",
       "    </tr>\n",
       "    <tr>\n",
       "      <th>16</th>\n",
       "      <td>it</td>\n",
       "      <td>17218</td>\n",
       "    </tr>\n",
       "    <tr>\n",
       "      <th>17</th>\n",
       "      <td>id</td>\n",
       "      <td>15690</td>\n",
       "    </tr>\n",
       "    <tr>\n",
       "      <th>18</th>\n",
       "      <td>mx</td>\n",
       "      <td>13027</td>\n",
       "    </tr>\n",
       "    <tr>\n",
       "      <th>19</th>\n",
       "      <td>ch</td>\n",
       "      <td>12516</td>\n",
       "    </tr>\n",
       "    <tr>\n",
       "      <th>20</th>\n",
       "      <td>tr</td>\n",
       "      <td>11753</td>\n",
       "    </tr>\n",
       "    <tr>\n",
       "      <th>21</th>\n",
       "      <td>others</td>\n",
       "      <td>284554</td>\n",
       "    </tr>\n",
       "  </tbody>\n",
       "</table>\n",
       "</div>"
      ],
      "text/plain": [
       "   country_code   count\n",
       "0            us  481311\n",
       "1            in  102505\n",
       "2            cn   96327\n",
       "3            gb   85605\n",
       "4            de   70331\n",
       "5            br   52196\n",
       "6            ca   51814\n",
       "7            fr   48813\n",
       "8            ru   42426\n",
       "9            au   31885\n",
       "10           jp   30176\n",
       "11           nl   27232\n",
       "12           es   26928\n",
       "13           ua   22814\n",
       "14           se   20955\n",
       "15           pl   19943\n",
       "16           it   17218\n",
       "17           id   15690\n",
       "18           mx   13027\n",
       "19           ch   12516\n",
       "20           tr   11753\n",
       "21       others  284554"
      ]
     },
     "execution_count": 1,
     "metadata": {},
     "output_type": "execute_result"
    }
   ],
   "source": [
    "import pandas as pd\n",
    "uc = pd.read_json(open(\"../outputs/user-year-country-count.json\"))\n",
    "# uc\n",
    "nuc = uc.groupby(\"country_code\", as_index=False)[\"count\"].sum()\n",
    "nuc.sort_values(\"count\", inplace=True, ascending=False)\n",
    "\n",
    "top = nuc.head(21).copy()\n",
    "top_countries = list(top[\"country_code\"])\n",
    "\n",
    "others = nuc.loc[~nuc.country_code.isin(top_countries)]\n",
    "\n",
    "top = top.reset_index(drop=True)\n",
    "top.loc[len(top)] = [\"others\", others[\"count\"].sum()]\n",
    "\n",
    "top"
   ]
  },
  {
   "cell_type": "code",
   "execution_count": null,
   "metadata": {},
   "outputs": [],
   "source": [
    "from bokeh.charts import Donut, show\n",
    "import pandas as pd\n",
    "data = pd.Series([0.15,0.4,0.7,1.0], index = list('abcd'))\n",
    "pie_chart = Donut(data)\n",
    "show(pie_chart)"
   ]
  },
  {
   "cell_type": "markdown",
   "metadata": {},
   "source": [
    "### Plot some charts"
   ]
  },
  {
   "cell_type": "code",
   "execution_count": null,
   "metadata": {
    "collapsed": true
   },
   "outputs": [],
   "source": [
    "import pandas as pd\n",
    "odf = pd.read_json(open(\"../outputs/user-year-country-count.json\"))\n",
    "odf = odf.loc[odf.year != 2017]\n",
    "# odf['year'] = pd.to_datetime(odf['year'], format=\"%Y\")\n",
    "\n",
    "# odf.head(50).country_code.unique()\n",
    "odf2 = odf.loc[odf.year == 2014]\n",
    "odf2.sort_values(\"count\")\n",
    "\n",
    "odf3 = odf2.head(20)\n",
    "\n",
    "# odf3.country_code.unique()"
   ]
  },
  {
   "cell_type": "code",
   "execution_count": null,
   "metadata": {},
   "outputs": [],
   "source": [
    "%matplotlib inline\n",
    "import matplotlib.pyplot as plt"
   ]
  },
  {
   "cell_type": "code",
   "execution_count": null,
   "metadata": {},
   "outputs": [],
   "source": [
    "plt.figure()\n",
    "odf3.plot.bar(x=\"country_code\", y=\"count\")"
   ]
  },
  {
   "cell_type": "code",
   "execution_count": null,
   "metadata": {},
   "outputs": [],
   "source": [
    "from bokeh.plotting import output_notebook; output_notebook()"
   ]
  },
  {
   "cell_type": "markdown",
   "metadata": {},
   "source": [
    "### Where do Indian GitHub users live?"
   ]
  },
  {
   "cell_type": "code",
   "execution_count": null,
   "metadata": {},
   "outputs": [],
   "source": [
    "df3 = df2.filter(\n",
    "    df.country_code == \"in\"\n",
    ")\n",
    "\n",
    "# df3.show()"
   ]
  },
  {
   "cell_type": "code",
   "execution_count": null,
   "metadata": {},
   "outputs": [],
   "source": [
    "# NCR = [\"Delhi\", \"New Delhi\", \"Gurgaon\", \"Noida\", \"Faridabad\"]\n",
    "\n",
    "df4 = (\n",
    "    df3\n",
    "    .where(df3.state.isNotNull())\n",
    "#     .where(df3.city.isNotNull())\n",
    "#     .select(\"city\", F.when(df.city.isin(NCR), \"Delhi (NCR)\").otherwise(df.city).name(\"region\"))\n",
    "#     .select(\"city\")\n",
    "#     .groupby(\"region\")\n",
    "    .groupby(\"state\")\n",
    "    .count()\n",
    "    .sort(\"count\", ascending=False)\n",
    ")\n",
    "\n",
    "df4.show(50)"
   ]
  },
  {
   "cell_type": "code",
   "execution_count": null,
   "metadata": {},
   "outputs": [],
   "source": [
    "df4.coalesce(1).write.json(\"user-india-state-count.json\")"
   ]
  },
  {
   "cell_type": "markdown",
   "metadata": {},
   "source": [
    "\n",
    "### Number of new users per month"
   ]
  },
  {
   "cell_type": "code",
   "execution_count": null,
   "metadata": {},
   "outputs": [],
   "source": [
    "users.limit(10).show()\n",
    "df3 = (\n",
    "    users\n",
    "    .where(users.created_at.isNotNull())\n",
    "    .select(F.year(users.created_at).name(\"year\"),\n",
    "            F.month(users.created_at).name(\"month\"))\n",
    "    .groupby(\"year\", \"month\")\n",
    "    .count()\n",
    "    .orderBy(\"count\", ascending=False)\n",
    ")\n",
    "\n",
    "# df3.show()\n",
    "df3.coalesce(1).write.json(\"user-year-month-count.json\")"
   ]
  },
  {
   "cell_type": "markdown",
   "metadata": {},
   "source": [
    "### Number of followers of each user"
   ]
  },
  {
   "cell_type": "code",
   "execution_count": null,
   "metadata": {},
   "outputs": [],
   "source": [
    "followers = spark.read.csv(\n",
    "    path=\"/mnt/Data/GHTorrent/followers.csv\",\n",
    "    schema=spark_schema_from_json(db_schema[\"followers.csv\"]),\n",
    "    nullValue=\"\\\\N\",\n",
    ")\n",
    "\n",
    "df2 = (\n",
    "    followers\n",
    "    .groupby(\"follower_id\")\n",
    "    .count()\n",
    "    .withColumnRenamed(\"count\", \"following\")\n",
    "    .withColumnRenamed(\"follower_id\", \"user_id\")\n",
    ")\n",
    "\n",
    "# print(df2.count())\n",
    "\n",
    "df3 = (\n",
    "    followers\n",
    "    .groupby(\"user_id\")\n",
    "    .count()\n",
    "    .withColumnRenamed(\"count\", \"followers\")\n",
    ")\n",
    "\n",
    "# print(df3.count())\n",
    "\n",
    "# df5 = df2.join(df3, \"user_id\", \"full\")\n",
    "\n",
    "# df5.limit(100).show(100)\n",
    "\n",
    "# print(df5.count())"
   ]
  },
  {
   "cell_type": "markdown",
   "metadata": {},
   "source": [
    "### Number of repositories starred by each user"
   ]
  },
  {
   "cell_type": "code",
   "execution_count": null,
   "metadata": {},
   "outputs": [],
   "source": [
    "# Stars were previously called watchers\n",
    "stars = spark.read.csv(\n",
    "    path=\"/mnt/Data/GHTorrent/watchers.csv\",\n",
    "    schema=spark_schema_from_json(db_schema[\"watchers.csv\"]),\n",
    "    nullValue=\"\\\\N\",\n",
    ")\n",
    "\n",
    "df4 = (\n",
    "    stars\n",
    "    .groupby(\"user_id\")\n",
    "    .count()\n",
    "    .withColumnRenamed(\"count\", \"starred\")\n",
    ")\n",
    "\n",
    "df5 = df2.join(df3, \"user_id\", \"full\").join(df4, \"user_id\", \"full\")\n",
    "\n",
    "df5.write.csv(\n",
    "    \"user_more\",\n",
    "    mode=\"overwrite\",\n",
    "    nullValue=\"\\\\N\"\n",
    ")"
   ]
  },
  {
   "cell_type": "markdown",
   "metadata": {},
   "source": [
    "### Number of repositories of each user"
   ]
  },
  {
   "cell_type": "code",
   "execution_count": null,
   "metadata": {},
   "outputs": [],
   "source": [
    "projects =  utils.read_csv(spark, \"/mnt/Data/GHTorrent/projects_new.csv\")\n",
    "user_more =  utils.read_csv(spark, \"/mnt/Data/GHTorrent/user_more.csv\")\n",
    "\n",
    "# Find source repos\n",
    "df4 = (\n",
    "    projects\n",
    "    .where(projects.deleted == 0 & projects.forked_from.isNull())\n",
    "    .groupby(\"owner_id\")\n",
    "    .count()\n",
    "    .withColumnRenamed(\"count\", \"repos_source\")\n",
    "    .withColumnRenamed(\"owner_id\", \"user_id\")\n",
    ")\n",
    "\n",
    "# Find forks\n",
    "df6 = (\n",
    "    projects\n",
    "    .where(projects.deleted == 0 & projects.forked_from.isNotNull())\n",
    "    .groupby(\"owner_id\")\n",
    "    .count()\n",
    "    .withColumnRenamed(\"count\", \"repos_forks\")\n",
    "    .withColumnRenamed(\"owner_id\", \"user_id\")\n",
    ")\n",
    "\n",
    "# Join Data\n",
    "df5 = user_more.join(df4, \"user_id\", \"full\").join(df6, \"user_id\", \"full\")\n",
    "\n",
    "# Write to local directory\n",
    "df5.write.csv(\n",
    "    \"../user_more_2\",\n",
    "    mode=\"overwrite\",\n",
    "    nullValue=\"\\\\N\"\n",
    ")"
   ]
  },
  {
   "cell_type": "markdown",
   "metadata": {},
   "source": [
    "### Analysis on Users x More"
   ]
  },
  {
   "cell_type": "code",
   "execution_count": 3,
   "metadata": {},
   "outputs": [
    {
     "name": "stdout",
     "output_type": "stream",
     "text": [
      "+-------+-------------+-------+-------------------+----+----+-------+-----------+-----------+------------+-----+---------+----------------+---------+---------+-------+------------+-----------+---------+--------------+------+-----+-------+--------------+\n",
      "|     id|        login|company|         created_at|type|fake|deleted|       long|        lat|country_code|state|     city|        location|following|followers|starred|repos_source|repos_forks|has_stars|contributes_to|issues|pulls|commits|commits_others|\n",
      "+-------+-------------+-------+-------------------+----+----+-------+-----------+-----------+------------+-----+---------+----------------+---------+---------+-------+------------+-----------+---------+--------------+------+-----+-------+--------------+\n",
      "|4007006|      kwikadi|   null|2013-05-31 07:44:24| USR|   0|      0|79.45809174|23.40601158|          in| null|     null|           India|       21|       27|     26|          17|          9|        5|            14|     7|    1|    390|           132|\n",
      "|6145009|     nickedes|   null|2013-11-08 09:49:54| USR|   0|      0|77.20081329|28.60828018|          in|Delhi|New Delhi|New Delhi, India|       64|       53|   1416|          39|         10|       51|             1|    32|    1|   1422|             3|\n",
      "|1432224|  dufferzafar|   null|2012-02-18 15:43:26| USR|   0|      0|77.20081329|28.60828018|          in|Delhi|New Delhi|New Delhi, India|      173|      151|   3345|          53|         47|      704|            34|   198| null|   2902|           977|\n",
      "|4925305|   prerit2010|   null|2013-10-04 13:00:06| USR|   0|      0|        0.0|        0.0|        null| null|     null|            null|        6|        8|      5|          10|          9|        2|             3|     9| null|    411|             7|\n",
      "|2859386|TrigonaMinima|   null|2012-10-09 13:04:09| USR|   0|      0|77.20081329|28.60828018|          in|Delhi|New Delhi|New Delhi, India|       47|       52|    611|          26|          6|       21|            18|     7| null|    860|           215|\n",
      "|5107602|       iCHAIT|   null|2014-08-17 14:41:32| USR|   0|      0|79.45809174|23.40601158|          in| null|     null|           India|       80|      129|   1308|          25|         19|     7143|             5|    53|    8|   1363|           498|\n",
      "|2549876|    rootAvish|   null|2013-09-12 14:03:50| USR|   0|      0|77.20081329|28.60828018|          in|Delhi|New Delhi|New Delhi, India|       55|       48|    173|          10|          5|        7|            11|    16| null|    435|           138|\n",
      "+-------+-------------+-------+-------------------+----+----+-------+-----------+-----------+------------+-----+---------+----------------+---------+---------+-------+------------+-----------+---------+--------------+------+-----+-------+--------------+\n",
      "\n"
     ]
    }
   ],
   "source": [
    "um = utils.read_csv(spark, \"/home/dufferzafar/dev/github-analytics/_Help/users_with_more.csv\") \n",
    "\n",
    "jamians = [1432224, 5107602, 4007006, 6145009, 2859386, 4925305, 2549876]\n",
    "jamians = [\n",
    "    \"dufferzafar\",\n",
    "    \"kwikadi\",\n",
    "    \"iCHAIT\",\n",
    "    \"nickedes\",\n",
    "    \"prerit2010\",\n",
    "    \"TrigonaMinima\",\n",
    "    \"rootAvish\",\n",
    "]\n",
    "\n",
    "res = (\n",
    "    um\n",
    "    .where(\n",
    "          (um.type == \"USR\")\n",
    "#         & (um.deleted == 0)\n",
    "#         & (um.fake == 0)\n",
    "#         & (um.country_code == \"in\")\n",
    "        & (um.login.isin(jamians))\n",
    "    )\n",
    "#     .select(\"login\", \"following\", \"followers\", \"starred\", \"repos_source\", \"repos_forks\", \"has_stars\", \"contributes_to\", \"issues\", \"pulls\", \"commits\", \"commits_others\")\n",
    ")\n",
    "\n",
    "res.limit(10).show()"
   ]
  }
 ],
 "metadata": {
  "kernelspec": {
   "display_name": "Python 3",
   "language": "python",
   "name": "python3"
  },
  "language_info": {
   "codemirror_mode": {
    "name": "ipython",
    "version": 3
   },
   "file_extension": ".py",
   "mimetype": "text/x-python",
   "name": "python",
   "nbconvert_exporter": "python",
   "pygments_lexer": "ipython3",
   "version": "3.6.3"
  }
 },
 "nbformat": 4,
 "nbformat_minor": 2
}
